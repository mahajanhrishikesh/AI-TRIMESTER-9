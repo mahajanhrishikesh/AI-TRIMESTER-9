{
 "cells": [
  {
   "cell_type": "code",
   "execution_count": 42,
   "metadata": {},
   "outputs": [],
   "source": [
    "def brickABracka(literal):\n",
    "    brack_start = 0\n",
    "    for i in range(len(literal)):\n",
    "        if literal[i] =='(':\n",
    "            brack_start = i\n",
    "    contents = []\n",
    "    t = brack_start+1\n",
    "    while literal[t] != ')':\n",
    "        contents.append(literal[t])\n",
    "        t+=1\n",
    "    temp = ''.join(contents)\n",
    "    return temp.split(',')"
   ]
  },
  {
   "cell_type": "code",
   "execution_count": 57,
   "metadata": {},
   "outputs": [],
   "source": [
    "def mostGeneralUnifier(literal_1, literal_2):\n",
    "    substitution_set = set()\n",
    "    status = True\n",
    "    literal_1_new = literal_1\n",
    "    literal_2_new = literal_2\n",
    "    literal_1_temp = []\n",
    "    literal_2_temp = []\n",
    "    for literal in literal_1_new:\n",
    "        if '(' in literal:\n",
    "            literal_1_temp.append(brickABracka(literal))\n",
    "        else:\n",
    "            literal_1_temp.append(literal)\n",
    "    literal_1_new = literal_1_temp\n",
    "    for literal in literal_2_new:\n",
    "        if '(' in literal:\n",
    "            literal_2_temp.append(brickABracka(literal))\n",
    "        else:\n",
    "            literal_2_temp.append(literal)\n",
    "    literal_2_new = literal_2_temp\n",
    "    print(\"Processed form:\")\n",
    "    print(literal_1_new, literal_2_new)\n",
    "    if len(literal_1_new)!=len(literal_2_new):\n",
    "        print(\"Lengths of literals do not match!\")\n",
    "        status = False\n",
    "    else:\n",
    "        for i in range(len(literal_1_new)):\n",
    "            l1 = literal_1_new[i]\n",
    "            l2 = literal_2_new[i]\n",
    "            if l1[0] == l2[0]:\n",
    "                substitution_set.add(f\"{l1[1]} / {l2[1]}\")\n",
    "            else:\n",
    "                print(\"Predicate Symbol not the same!\")\n",
    "                status = False\n",
    "    result = {\"status\":status, \"sub_set\": substitution_set, \"new_lit_1\": literal_1_new, \"new_lit_2\": literal_2_new}\n",
    "    return result"
   ]
  },
  {
   "cell_type": "code",
   "execution_count": 54,
   "metadata": {},
   "outputs": [
    {
     "name": "stdout",
     "output_type": "stream",
     "text": [
      "Processed form:\n",
      "[['Richard', ' x'], ['Chandler', ' y']] [['Richard', ' Johnny'], ['Chandler', ' Joey']]\n",
      "\n",
      "Unification Successful!\n",
      "Substitution Array:\n",
      "{' x /  Johnny', ' y /  Joey'}\n",
      "New Literal 1: [['Richard', ' x'], ['Chandler', ' y']]\n",
      "New Literal 2: [['Richard', ' Johnny'], ['Chandler', ' Joey']]\n"
     ]
    }
   ],
   "source": [
    "literal_1 = list()\n",
    "literal_2 = list()\n",
    "literal_1.append(\"knows(Richard, x)\")\n",
    "literal_1.append(\"friends(Chandler, y)\")\n",
    "literal_2.append(\"knows(Richard, Johnny)\")\n",
    "literal_2.append(\"friends(Chandler, Joey)\")\n",
    "result = mostGeneralUnifier(literal_1, literal_2)\n",
    "if result[\"status\"]:\n",
    "    print(\"\\nUnification Successful!\")\n",
    "    print(\"Substitution Array:\")\n",
    "    print(result[\"sub_set\"])\n",
    "    print(f\"New Literal 1: {result['new_lit_1']}\")\n",
    "    print(f\"New Literal 2: {result['new_lit_2']}\")\n",
    "else:\n",
    "    print(\"Unification failed!\")"
   ]
  },
  {
   "cell_type": "code",
   "execution_count": 56,
   "metadata": {},
   "outputs": [
    {
     "name": "stdout",
     "output_type": "stream",
     "text": [
      "knows(Richard, x),friends(Chandler, y)\n",
      "knows(Richard, Johnny),friends(Chandler, Joey)\n"
     ]
    }
   ],
   "source": [
    "print(','.join(literal_1))\n",
    "print(','.join(literal_2))"
   ]
  },
  {
   "cell_type": "code",
   "execution_count": 59,
   "metadata": {},
   "outputs": [
    {
     "name": "stdout",
     "output_type": "stream",
     "text": [
      "Processed form:\n",
      "[['x']] [['John']]\n",
      "Predicate Symbol not the same!\n",
      "\n",
      "Unification Successful!\n",
      "Substitution Array:\n",
      "set()\n",
      "New Literal 1: [['x']]\n",
      "New Literal 2: [['John']]\n"
     ]
    }
   ],
   "source": [
    "literal_1 = list()\n",
    "literal_2 = list()\n",
    "literal_1.append(\"king(x)\")\n",
    "#literal_1.append(\"friends(Chandler, y)\")\n",
    "literal_2.append(\"king(John)\")\n",
    "#literal_2.append(\"friends(Chandler, Joey)\")\n",
    "result = mostGeneralUnifier(literal_1, literal_2)\n",
    "if result[\"status\"]:\n",
    "    print(\"\\nUnification Successful!\")\n",
    "    print(\"Substitution Array:\")\n",
    "    print(result[\"sub_set\"])\n",
    "    print(f\"New Literal 1: {result['new_lit_1']}\")\n",
    "    print(f\"New Literal 2: {result['new_lit_2']}\")\n",
    "else:\n",
    "    print(\"Unification failed!\")"
   ]
  },
  {
   "cell_type": "code",
   "execution_count": null,
   "metadata": {},
   "outputs": [],
   "source": []
  }
 ],
 "metadata": {
  "kernelspec": {
   "display_name": "Python 3",
   "language": "python",
   "name": "python3"
  },
  "language_info": {
   "codemirror_mode": {
    "name": "ipython",
    "version": 3
   },
   "file_extension": ".py",
   "mimetype": "text/x-python",
   "name": "python",
   "nbconvert_exporter": "python",
   "pygments_lexer": "ipython3",
   "version": "3.7.3"
  }
 },
 "nbformat": 4,
 "nbformat_minor": 2
}
