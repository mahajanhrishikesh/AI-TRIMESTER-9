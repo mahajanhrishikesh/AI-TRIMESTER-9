{
 "cells": [
  {
   "cell_type": "markdown",
   "metadata": {},
   "source": [
    "### AI Minimax Tic-Tac-Toe\n",
    "    Name: Hrishikesh Mahajan\n",
    "    Roll No.: PC-45\n",
    "    Division: C"
   ]
  },
  {
   "cell_type": "markdown",
   "metadata": {},
   "source": [
    "#### Printer \n",
    "Prints out the board and fills it up as players play"
   ]
  },
  {
   "cell_type": "code",
   "execution_count": 2,
   "metadata": {},
   "outputs": [
    {
     "name": "stdout",
     "output_type": "stream",
     "text": [
      "     |     |     \n",
      "-----------------\n",
      "     |     |     \n",
      "-----------------\n",
      "     |     |     \n"
     ]
    }
   ],
   "source": [
    "def printer(a):\n",
    "    print(f\" {a[0]:^3} | {a[1]:^3} | {a[2]:^3} \")\n",
    "    print(\"-----------------\")\n",
    "    print(f\" {a[3]:^3} | {a[4]:^3} | {a[5]:^3} \")\n",
    "    print(\"-----------------\")\n",
    "    print(f\" {a[6]:^3} | {a[7]:^3} | {a[8]:^3} \")\n",
    "    \n",
    "printer(['','','','','','','','',''])"
   ]
  },
  {
   "cell_type": "markdown",
   "metadata": {},
   "source": [
    "#### Winning\n",
    "This function checks if anybody won and if someone has it raises a flag"
   ]
  },
  {
   "cell_type": "code",
   "execution_count": 3,
   "metadata": {},
   "outputs": [],
   "source": [
    "def winning(a, psign):\n",
    "    if a[0] == a[1] == a[2] == psign or a[3] == a[4] == a[5] == psign or a[6] == a[7] == a[8] == psign:\n",
    "        return True   \n",
    "    elif a[0] == a[3] == a[6] == psign or a[1] == a[4] == a[7] == psign or a[2] == a[5] == a[8] == psign:\n",
    "        return True\n",
    "    elif a[0] == a[4] == a[8] == psign or a[2] == a[4] == a[6] == psign:\n",
    "        return True\n",
    "    else:\n",
    "        return False"
   ]
  },
  {
   "cell_type": "markdown",
   "metadata": {},
   "source": [
    "#### getOpponent\n",
    "Inverts the opponent as helper function for minimax"
   ]
  },
  {
   "cell_type": "code",
   "execution_count": 4,
   "metadata": {},
   "outputs": [],
   "source": [
    "def getOpponent(player):\n",
    "    if player == 'x':\n",
    "        return 'o'\n",
    "    elif player == 'o':\n",
    "        return 'x'"
   ]
  },
  {
   "cell_type": "markdown",
   "metadata": {},
   "source": [
    "#### minimax\n",
    "Actual algorithm in practice"
   ]
  },
  {
   "cell_type": "code",
   "execution_count": 26,
   "metadata": {},
   "outputs": [],
   "source": [
    "scores = {'x':1,'o':-1, 't':0}\n",
    "def minimax(a, depth, is_maximizing, Player):\n",
    "    result = winning(a, Player)\n",
    "    if result:\n",
    "        return scores[Player]\n",
    "    else:\n",
    "        if '' in a:\n",
    "            pass\n",
    "        else:\n",
    "            return scores['t']\n",
    "            \n",
    "    if is_maximizing:\n",
    "        best_score = -99999\n",
    "        for i in range(9):\n",
    "            if a[i] == '':\n",
    "                a[i] = ai\n",
    "                score = minimax(a,depth+1, False, getOpponent(Player))\n",
    "                a[i] = ''\n",
    "                best_score = max(score,best_score)\n",
    "        return best_score\n",
    "    else:\n",
    "        best_score = 99999\n",
    "        for i in range(9):\n",
    "            if a[i] == '':\n",
    "                a[i] = Human\n",
    "                score = minimax(a, depth+1, True, getOpponent(Player))\n",
    "                a[i] = ''\n",
    "                best_score = min(score, best_score)\n",
    "    return best_score"
   ]
  },
  {
   "cell_type": "markdown",
   "metadata": {},
   "source": [
    "#### Random choice selector\n",
    "Just for fun"
   ]
  },
  {
   "cell_type": "code",
   "execution_count": 27,
   "metadata": {},
   "outputs": [
    {
     "data": {
      "text/plain": [
       "8"
      ]
     },
     "execution_count": 27,
     "metadata": {},
     "output_type": "execute_result"
    }
   ],
   "source": [
    "from random import randint\n",
    "def random_play(a):\n",
    "    while True:\n",
    "        x = randint(0,8)\n",
    "        if a[x] == '':\n",
    "            return x\n",
    "random_play(a)"
   ]
  },
  {
   "cell_type": "markdown",
   "metadata": {},
   "source": [
    "#### Driver Code"
   ]
  },
  {
   "cell_type": "code",
   "execution_count": 29,
   "metadata": {
    "scrolled": false
   },
   "outputs": [
    {
     "name": "stdout",
     "output_type": "stream",
     "text": [
      "     |     |     \n",
      "-----------------\n",
      "     |     |     \n",
      "-----------------\n",
      "     |     |     \n",
      "Player o enter your position:\n",
      "4\n",
      "     |     |     \n",
      "-----------------\n",
      "     |  o  |     \n",
      "-----------------\n",
      "     |     |     \n",
      "Player x is playing...\n",
      "  x  |     |     \n",
      "-----------------\n",
      "     |  o  |     \n",
      "-----------------\n",
      "     |     |     \n",
      "Player o enter your position:\n",
      "6\n",
      "  x  |     |     \n",
      "-----------------\n",
      "     |  o  |     \n",
      "-----------------\n",
      "  o  |     |     \n",
      "Player x is playing...\n",
      "  x  |     |  x  \n",
      "-----------------\n",
      "     |  o  |     \n",
      "-----------------\n",
      "  o  |     |     \n",
      "Player o enter your position:\n",
      "7\n",
      "  x  |     |  x  \n",
      "-----------------\n",
      "     |  o  |     \n",
      "-----------------\n",
      "  o  |  o  |     \n",
      "Player x is playing...\n",
      "  x  |  x  |  x  \n",
      "-----------------\n",
      "     |  o  |     \n",
      "-----------------\n",
      "  o  |  o  |     \n",
      "x won!!\n"
     ]
    }
   ],
   "source": [
    "a = ['','','','','','','','','']\n",
    "Human = 'o'\n",
    "ai = 'x'\n",
    "while True:\n",
    "    printer(a)\n",
    "    print(f\"Player {Human} enter your position:\")\n",
    "    while True:\n",
    "        pos = int(input())\n",
    "        if a[pos] == '':\n",
    "            a[pos] = Human\n",
    "            break\n",
    "        else:\n",
    "            print(\"Already occupied, pick another place.\")\n",
    "    if winning(a, Human):\n",
    "        printer(a)\n",
    "        print(f\"{Human} won!!\")\n",
    "        break\n",
    "    printer(a)\n",
    "    print(f\"Player {ai} is playing...\")\n",
    "    pos = None\n",
    "    score = 0\n",
    "    bestScore = -99999\n",
    "    for i in range(9):\n",
    "        if a[i] == '':\n",
    "            a[i] = ai\n",
    "            score = minimax(a,0,False, ai)\n",
    "            a[i] = ''\n",
    "            if score > bestScore:\n",
    "                bestScore = score\n",
    "                pos = i\n",
    "    a[pos] = ai\n",
    "    if winning(a, ai):\n",
    "        printer(a)\n",
    "        print(f\"{ai} won!!\")\n",
    "        break\n",
    "    "
   ]
  }
 ],
 "metadata": {
  "kernelspec": {
   "display_name": "Python 3",
   "language": "python",
   "name": "python3"
  },
  "language_info": {
   "codemirror_mode": {
    "name": "ipython",
    "version": 3
   },
   "file_extension": ".py",
   "mimetype": "text/x-python",
   "name": "python",
   "nbconvert_exporter": "python",
   "pygments_lexer": "ipython3",
   "version": "3.7.3"
  }
 },
 "nbformat": 4,
 "nbformat_minor": 2
}
